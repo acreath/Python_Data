{
 "nbformat": 4,
 "nbformat_minor": 2,
 "metadata": {
  "language_info": {
   "name": "python",
   "codemirror_mode": {
    "name": "ipython",
    "version": 3
   },
   "version": "3.5.6-final"
  },
  "orig_nbformat": 2,
  "file_extension": ".py",
  "mimetype": "text/x-python",
  "name": "python",
  "npconvert_exporter": "python",
  "pygments_lexer": "ipython3",
  "version": 3,
  "kernelspec": {
   "name": "python35664bitnotebookcondaca4b02ab05134200b17e70e6026a9565",
   "display_name": "Python 3.5.6 64-bit ('notebook': conda)"
  }
 },
 "cells": [
  {
   "cell_type": "code",
   "execution_count": 3,
   "metadata": {},
   "outputs": [
    {
     "name": "stdout",
     "output_type": "stream",
     "text": "Arr:[0 1 2 3 4 5 6 7 8 9]\nList:[0, 1, 2, 3, 4, 5, 6, 7, 8, 9]\n"
    }
   ],
   "source": [
    "import numpy as np \n",
    "my_arr = np.arange(10)\n",
    "my_list = list(range(10))\n",
    "\n",
    "print(\"Arr:{}\\nList:{}\".format(my_arr,my_list))"
   ]
  },
  {
   "cell_type": "code",
   "execution_count": 1,
   "metadata": {},
   "outputs": [
    {
     "data": {
      "text/plain": "(4, 5, 6)"
     },
     "execution_count": 1,
     "metadata": {},
     "output_type": "execute_result"
    }
   ],
   "source": [
    "#元组，一个固定长度，不可改变的Python序列对象\n",
    "tup = 4,5,6\n",
    "tup"
   ]
  },
  {
   "cell_type": "code",
   "execution_count": 5,
   "metadata": {},
   "outputs": [
    {
     "name": "stdout",
     "output_type": "stream",
     "text": "(4, 3, 2)\n"
    },
    {
     "data": {
      "text/plain": "('s', 't', 'r', 'i', 'n', 'g')"
     },
     "execution_count": 5,
     "metadata": {},
     "output_type": "execute_result"
    }
   ],
   "source": [
    "#当用复杂的表达式定义元组，最好将值放到圆括号内\n",
    "\n",
    "nested_tup = (4,5,6),(7,8)\n",
    "nested_tup\n",
    "\n",
    "#用tuple函数可以将任意序列或迭代器转换称元组\n",
    "print(tuple([4,3,2]))\n",
    "\n",
    "tup = tuple('string')\n",
    "tup\n",
    "\n",
    "#python中的迭代器是什么？\n",
    "\n",
    "#元组一旦创建，元组中的对象就不能修改了，如果元组中某个对象是可变的，比如列表，可以在原味进行修改"
   ]
  },
  {
   "cell_type": "code",
   "execution_count": 10,
   "metadata": {},
   "outputs": [
    {
     "data": {
      "text/plain": "(4, 5, 4, 5, 4, 5)"
     },
     "execution_count": 10,
     "metadata": {},
     "output_type": "execute_result"
    }
   ],
   "source": [
    "#可以用加号运算符将元组串联起来\n",
    "(4,'dassd','ds')+(2,34,4)\n",
    "\n",
    "#元组乘以一个整数，可以将几个元组的复制串联起来\n",
    "(4,5)*3"
   ]
  },
  {
   "cell_type": "code",
   "execution_count": 14,
   "metadata": {},
   "outputs": [
    {
     "data": {
      "text/plain": "7"
     },
     "execution_count": 14,
     "metadata": {},
     "output_type": "execute_result"
    }
   ],
   "source": [
    "#拆分元组\n",
    "tup = (4,5,6)\n",
    "tup = 4,5,6\n",
    "a,b,c = tup\n",
    "b\n",
    "#即使含有元组的元组也会被拆分：\n",
    "tup = 4,5,(6,7)\n",
    "a,b,(d,g) = tup\n",
    "g"
   ]
  },
  {
   "cell_type": "code",
   "execution_count": 15,
   "metadata": {},
   "outputs": [
    {
     "name": "stdout",
     "output_type": "stream",
     "text": "1 2\n2 1\n"
    }
   ],
   "source": [
    "#变量的替换\n",
    "a,b = 1,2\n",
    "print(a,b)\n",
    "a,b = b,a\n",
    "print(a,b)"
   ]
  },
  {
   "cell_type": "code",
   "execution_count": 21,
   "metadata": {},
   "outputs": [
    {
     "name": "stdout",
     "output_type": "stream",
     "text": "a=1, b=2, c=3\na=4, b=5, c=6\na=7, b=8, c=9\na,b:1,2\nrest:[3, 4, 5]\n"
    }
   ],
   "source": [
    "#变量拆分用来迭代元组活着列表序列\n",
    "\n",
    "seq = [(1,2,3),(4,5,6),(7,8,9)]\n",
    "for a,b,c in seq:\n",
    "    print('a={0}, b={1}, c={2}'.format(a,b,c))\n",
    "\n",
    "#高级元组拆分法\n",
    "values = 1, 2, 3, 4, 5\n",
    "a, b, *rest = values\n",
    "print('a,b:{},{}'.format(a,b))\n",
    "print('rest:{}'.format(rest))"
   ]
  },
  {
   "cell_type": "code",
   "execution_count": 22,
   "metadata": {},
   "outputs": [
    {
     "data": {
      "text/plain": "2"
     },
     "execution_count": 22,
     "metadata": {},
     "output_type": "execute_result"
    }
   ],
   "source": [
    "#tuple方法\n",
    "#count方法，统计某个值出现频率\n",
    "a = 1,2,3,4,5,6,7,6,2,21,1,443\n",
    "a.count(2)"
   ]
  },
  {
   "cell_type": "code",
   "execution_count": 1,
   "metadata": {},
   "outputs": [
    {
     "data": {
      "text/plain": "[0, 1, 2, 3, 4, 5, 6, 7, 8, 9]"
     },
     "execution_count": 1,
     "metadata": {},
     "output_type": "execute_result"
    }
   ],
   "source": [
    "#列表\n",
    "#与元组对比，列表长度可变，内容可以被修改，可以用方括号定义，或者用list函数\n",
    "\n",
    "gen = range(10)\n",
    "list(gen)"
   ]
  },
  {
   "cell_type": "code",
   "execution_count": 3,
   "metadata": {},
   "outputs": [
    {
     "name": "stdout",
     "output_type": "stream",
     "text": "b_list.append:['foo', 'bar', 'adg', 'cbd']\nb_list.insert:['foo', 'bed', 'bar', 'adg', 'cbd']\nb_list.pop:['foo', 'bed', 'adg', 'cbd']\nb_list:['bed', 'adg', 'cbd', 'foo']\n"
    }
   ],
   "source": [
    "#添加元素与删除元素\n",
    "b_list = list(('foo','bar','adg'))\n",
    "\n",
    "b_list.append('cbd')\n",
    "\n",
    "print('b_list.append:{}'.format(b_list))\n",
    "\n",
    "#在指定位置插入元素\n",
    "b_list.insert(1,'bed')\n",
    "print('b_list.insert:{}'.format(b_list))\n",
    "\n",
    "#insert的逆运算，pop\n",
    "b_list.pop(2)\n",
    "print('b_list.pop:{}'.format(b_list))\n",
    "\n",
    "#使用remove去除某个值，会先寻找到第一个值然后去除\n",
    "b_list.append('foo')\n",
    "b_list.remove('foo')\n",
    "print('b_list.remove:{}'.format(b_list))"
   ]
  },
  {
   "cell_type": "code",
   "execution_count": 4,
   "metadata": {},
   "outputs": [
    {
     "name": "stdout",
     "output_type": "stream",
     "text": "c_list:[4, 23, 1, 5, 7, 43, 2, 'end']\nc_list.extend:[4, 23, 1, 5, 7, 43, 2, 'end', 7, 5, 3, 12, (23, 32)]\n"
    }
   ],
   "source": [
    "#串联和组合列表\n",
    "#使用加号进行串联\n",
    "c_list = [4,23,1,5]+[7,43,2,'end']\n",
    "print('c_list:{}'.format(c_list))\n",
    "\n",
    "#如果已经定义了一个列表，用extend方法可以追加多个元素\n",
    "c_list.extend([7,5,3,12,(23,32)])\n",
    "print('c_list.extend:{}'.format(c_list))\n",
    "\n",
    "#如果需要做两个列表串联，使用加号计算量较大，因为需要新建一个list，并且要复制对象。可以使用extend更可取\n",
    "\n"
   ]
  },
  {
   "cell_type": "code",
   "execution_count": 6,
   "metadata": {},
   "outputs": [
    {
     "name": "stdout",
     "output_type": "stream",
     "text": "d_list.sort:[1, 3, 57, 75, 326, 6]\n"
    }
   ],
   "source": [
    "#排序，可以用sort函数将一个列表原地排序（不创建新的对象）\n",
    "d_list = [1,3,57,75,326,6,5,7,21,2]\n",
    "print('d_list.sort:{}'.format(d_list))\n",
    "#二分搜索和维护已排序的列表\n",
    "import bisect\n",
    "\n",
    "#bisect支持二分查找，和向已排序列表插入值。\n",
    "#bisect.bisect可以找到插入值后仍保证排序的位置\n",
    "bisect.bisect(d_list,2)\n",
    "\n",
    "#bisect.insort是向这个位置插入值：\n",
    "bisect.insort(d_list,2)"
   ]
  },
  {
   "cell_type": "code",
   "execution_count": 8,
   "metadata": {},
   "outputs": [
    {
     "name": "stdout",
     "output_type": "stream",
     "text": "[3, 57, 75, 326]\n[1, 3, 57, 75, 326]\n[75, 326, 6, 5, 7, 21, 2]\n[7, 21, 2]\n[326, 6, 5, 7]\n[1, 57, 326, 5, 21]\n[2, 21, 7, 5, 6, 326, 75, 57, 3, 1]\n"
    }
   ],
   "source": [
    "d_list = [1,3,57,75,326,6,5,7,21,2]\n",
    "#切片：选取大多数序列类型的一部分\n",
    "print(d_list[1:5])\n",
    "print(d_list[:5])\n",
    "print(d_list[3:])\n",
    "#后向切片\n",
    "print(d_list[-3:])\n",
    "print(d_list[-6:-2])\n",
    "#表示隔几个取值\n",
    "print(d_list[::2])\n",
    "#倒序输出列表\n",
    "print(d_list[::-1])"
   ]
  },
  {
   "cell_type": "code",
   "execution_count": 4,
   "metadata": {},
   "outputs": [
    {
     "name": "stdout",
     "output_type": "stream",
     "text": "0:2\n1:3\n2:4\n3:6\n4:8\n5:98\n6:84\n7:32\n8:1\n9:14\n10:66\nenumerate_mapping:{32: 7, 1: 8, 2: 0, 3: 1, 4: 2, 66: 10, 6: 3, 8: 4, 84: 6, 98: 5, 14: 9}\n"
    }
   ],
   "source": [
    "#enumetare函数，返回(i,value)的元组序列\n",
    "collection = [2,3,4,6,8,98,84,32,1,14,66]\n",
    "\n",
    "i = 0 \n",
    "for v in collection:\n",
    "    print('{}:{}'.format(i,v))\n",
    "    i += 1\n",
    "mapping = {}\n",
    "for k,value in enumerate(collection):\n",
    "    mapping[value] = k\n",
    "\n",
    "print(\"enumerate_mapping:{}\".format(mapping))"
   ]
  },
  {
   "cell_type": "code",
   "execution_count": 17,
   "metadata": {},
   "outputs": [
    {
     "name": "stdout",
     "output_type": "stream",
     "text": "zipped:[('foo', 'one'), ('bar', 'toe'), ('bas', 'hsab')]\nzipped2:[('foo', 'one', 'eigen'), ('bar', 'toe', 'alipay')]\n0: foo, one\n1: bar, toe\n2: bas, hsab\nfirst:('sky', 'dasd', 'dawty')\nlast:('ones', 'dweqw', 'cvbb')\nreversed:[9, 8, 7, 6, 5, 4, 3, 2, 1, 0]\n"
    }
   ],
   "source": [
    "#zip函数，可以将多个列表、元组或其他序列成对组合成一个元组列表\n",
    "seq1 = ['foo', 'bar', 'bas']\n",
    "seq2 = ['one', 'toe', 'hsab']\n",
    "\n",
    "zipped = zip(seq1, seq2)\n",
    "print(\"zipped:{}\".format(list(zipped)))\n",
    "\n",
    "#zip可以处理任意多的序列，元素的个数取决于最短的序列：\n",
    "seq3 = ['eigen', 'alipay']\n",
    "\n",
    "zipped2 = zip(seq1, seq2, seq3)\n",
    "print('zipped2:{}'.format(list(zipped2)))\n",
    "\n",
    "#zip的常见用法之一是同时迭代多个序列，可能结合enumerate使用\n",
    "for i, (a,b) in enumerate(zip(seq1, seq2)):\n",
    "    print('{}: {}, {}'.format(i, a, b))\n",
    "\n",
    "#给出一个“被压缩”的序列，zip可以被用来解压序列。也可以当作把行的列表转换为列的列表\n",
    "\n",
    "pictures = [('sky','ones'),('dasd', 'dweqw'),('dawty','cvbb')]\n",
    "\n",
    "first, last = zip(*pictures)\n",
    "\n",
    "print('first:{}'.format(first))\n",
    "print('last:{}'.format(last))\n",
    "\n",
    "\n",
    "#reversed函数，可以从后向前迭代一个序列\n",
    "print('reversed:{}'.format(list(reversed(range(10)))))\n"
   ]
  },
  {
   "cell_type": "code",
   "execution_count": 23,
   "metadata": {},
   "outputs": [
    {
     "name": "stdout",
     "output_type": "stream",
     "text": "d1:{'a': 'some vlaue', 'b': [1, 2, 3]}\nd1_7:{'a': 'some vlaue', 'b': [1, 2, 3], 7: {'v': 'dasvvf'}}\nd1[7].{'v': 'dasvvf'}\nd1_insert {'dummy': 'another value', 'a': 'some vlaue', 'b': [1, 2, 3], 5: 'some value', 7: {'v': 'dasvvf'}}\ndel d1[5]{'dummy': 'another value', 'a': 'some vlaue', 'b': [1, 2, 3], 7: {'v': 'dasvvf'}}\nret: another value\nd1_pop: {'a': 'some vlaue', 'b': [1, 2, 3], 7: {'v': 'dasvvf'}}\n"
    }
   ],
   "source": [
    "#字典，更为常见的名字是哈希映射或关联数组\n",
    "#它是键值对的大小可变集合，键和值都是python对象。\n",
    "\n",
    "d1 = {'a':'some vlaue', 'b': [1,2,3]}\n",
    "print('d1:{}'.format(d1))\n",
    "\n",
    "#插入赋值\n",
    "d1[7] = {'v':'dasvvf'}\n",
    "\n",
    "print('d1_7:{}'.format(d1))\n",
    "print('d1[7].{}'.format(d1[7]))\n",
    "\n",
    "#检查字典中是否包含某个值\n",
    "7 in d1\n",
    "\n",
    "#使用del关键字或者pop方法（返回值的同时删除键）删除值\n",
    "d1[5] = 'some value'\n",
    "d1['dummy'] = 'another value'\n",
    "\n",
    "print('d1_insert {}'.format(d1))\n",
    "\n",
    "del d1[5]\n",
    "print('del d1[5]{}'.format(d1))\n",
    "\n",
    "ret = d1.pop('dummy')\n",
    "print('ret: {}'.format(ret))\n",
    "\n",
    "print ('d1_pop: {}'.format(d1))"
   ]
  },
  {
   "cell_type": "code",
   "execution_count": 25,
   "metadata": {},
   "outputs": [
    {
     "name": "stdout",
     "output_type": "stream",
     "text": "['a', 'b', 7]\n['some vlaue', [1, 2, 3], {'v': 'dasvvf'}]\nd1.update: {'f': 'vxvxz', 'y': [2, 34, 5], 'a': 'some vlaue', 'b': [1, 2, 3], 7: {'v': 'dasvvf'}}\n"
    }
   ],
   "source": [
    "#keys 和 values 是字典的键和值的迭代器方法，\n",
    "#这两个方法可以用相同顺序输出key与value\n",
    "\n",
    "print(list(d1.keys()))\n",
    "print(list(d1.values()))\n",
    "\n",
    "#使用update方法可以将一个字典与另一个字典融合\n",
    "d1.update({'f': 'vxvxz','y': [2,34,5]})\n",
    "print('d1.update: {}'.format(d1))\n"
   ]
  },
  {
   "cell_type": "code",
   "execution_count": 27,
   "metadata": {},
   "outputs": [
    {
     "name": "stdout",
     "output_type": "stream",
     "text": "{0: 4, 1: 3, 2: 2, 3: 1, 4: 0}\n"
    }
   ],
   "source": [
    "#用序列创建字典，将两个序列配成字典\n",
    "# mapping = {}\n",
    "\n",
    "# for k, v in zip(k_list, v_list):\n",
    "#     mapping[k] = v\n",
    "\n",
    "mapping = dict(zip(range(5), reversed(range(5))))\n",
    "print(mapping)"
   ]
  }
 ]
}