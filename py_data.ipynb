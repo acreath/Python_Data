{
 "nbformat": 4,
 "nbformat_minor": 2,
 "metadata": {
  "language_info": {
   "name": "python",
   "codemirror_mode": {
    "name": "ipython",
    "version": 3
   },
   "version": "3.5.6-final"
  },
  "orig_nbformat": 2,
  "file_extension": ".py",
  "mimetype": "text/x-python",
  "name": "python",
  "npconvert_exporter": "python",
  "pygments_lexer": "ipython3",
  "version": 3,
  "kernelspec": {
   "name": "python35664bitnotebookcondaca4b02ab05134200b17e70e6026a9565",
   "display_name": "Python 3.5.6 64-bit ('notebook': conda)"
  }
 },
 "cells": [
  {
   "cell_type": "code",
   "execution_count": 3,
   "metadata": {},
   "outputs": [
    {
     "name": "stdout",
     "output_type": "stream",
     "text": "Arr:[0 1 2 3 4 5 6 7 8 9]\nList:[0, 1, 2, 3, 4, 5, 6, 7, 8, 9]\n"
    }
   ],
   "source": [
    "import numpy as np \n",
    "my_arr = np.arange(10)\n",
    "my_list = list(range(10))\n",
    "\n",
    "print(\"Arr:{}\\nList:{}\".format(my_arr,my_list))"
   ]
  },
  {
   "cell_type": "code",
   "execution_count": 1,
   "metadata": {},
   "outputs": [
    {
     "data": {
      "text/plain": "(4, 5, 6)"
     },
     "execution_count": 1,
     "metadata": {},
     "output_type": "execute_result"
    }
   ],
   "source": [
    "#元组，一个固定长度，不可改变的Python序列对象\n",
    "tup = 4,5,6\n",
    "tup"
   ]
  },
  {
   "cell_type": "code",
   "execution_count": 5,
   "metadata": {},
   "outputs": [
    {
     "name": "stdout",
     "output_type": "stream",
     "text": "(4, 3, 2)\n"
    },
    {
     "data": {
      "text/plain": "('s', 't', 'r', 'i', 'n', 'g')"
     },
     "execution_count": 5,
     "metadata": {},
     "output_type": "execute_result"
    }
   ],
   "source": [
    "#当用复杂的表达式定义元组，最好将值放到圆括号内\n",
    "\n",
    "nested_tup = (4,5,6),(7,8)\n",
    "nested_tup\n",
    "\n",
    "#用tuple函数可以将任意序列或迭代器转换称元组\n",
    "print(tuple([4,3,2]))\n",
    "\n",
    "tup = tuple('string')\n",
    "tup\n",
    "\n",
    "#python中的迭代器是什么？\n",
    "\n",
    "#元组一旦创建，元组中的对象就不能修改了，如果元组中某个对象是可变的，比如列表，可以在原味进行修改"
   ]
  },
  {
   "cell_type": "code",
   "execution_count": 10,
   "metadata": {},
   "outputs": [
    {
     "data": {
      "text/plain": "(4, 5, 4, 5, 4, 5)"
     },
     "execution_count": 10,
     "metadata": {},
     "output_type": "execute_result"
    }
   ],
   "source": [
    "#可以用加号运算符将元组串联起来\n",
    "(4,'dassd','ds')+(2,34,4)\n",
    "\n",
    "#元组乘以一个整数，可以将几个元组的复制串联起来\n",
    "(4,5)*3"
   ]
  },
  {
   "cell_type": "code",
   "execution_count": 14,
   "metadata": {},
   "outputs": [
    {
     "data": {
      "text/plain": "7"
     },
     "execution_count": 14,
     "metadata": {},
     "output_type": "execute_result"
    }
   ],
   "source": [
    "#拆分元组\n",
    "tup = (4,5,6)\n",
    "tup = 4,5,6\n",
    "a,b,c = tup\n",
    "b\n",
    "#即使含有元组的元组也会被拆分：\n",
    "tup = 4,5,(6,7)\n",
    "a,b,(d,g) = tup\n",
    "g"
   ]
  },
  {
   "cell_type": "code",
   "execution_count": 15,
   "metadata": {},
   "outputs": [
    {
     "name": "stdout",
     "output_type": "stream",
     "text": "1 2\n2 1\n"
    }
   ],
   "source": [
    "#变量的替换\n",
    "a,b = 1,2\n",
    "print(a,b)\n",
    "a,b = b,a\n",
    "print(a,b)"
   ]
  },
  {
   "cell_type": "code",
   "execution_count": 21,
   "metadata": {},
   "outputs": [
    {
     "name": "stdout",
     "output_type": "stream",
     "text": "a=1, b=2, c=3\na=4, b=5, c=6\na=7, b=8, c=9\na,b:1,2\nrest:[3, 4, 5]\n"
    }
   ],
   "source": [
    "#变量拆分用来迭代元组活着列表序列\n",
    "\n",
    "seq = [(1,2,3),(4,5,6),(7,8,9)]\n",
    "for a,b,c in seq:\n",
    "    print('a={0}, b={1}, c={2}'.format(a,b,c))\n",
    "\n",
    "#高级元组拆分法\n",
    "values = 1, 2, 3, 4, 5\n",
    "a, b, *rest = values\n",
    "print('a,b:{},{}'.format(a,b))\n",
    "print('rest:{}'.format(rest))"
   ]
  },
  {
   "cell_type": "code",
   "execution_count": 22,
   "metadata": {},
   "outputs": [
    {
     "data": {
      "text/plain": "2"
     },
     "execution_count": 22,
     "metadata": {},
     "output_type": "execute_result"
    }
   ],
   "source": [
    "#tuple方法\n",
    "#count方法，统计某个值出现频率\n",
    "a = 1,2,3,4,5,6,7,6,2,21,1,443\n",
    "a.count(2)"
   ]
  }
 ]
}